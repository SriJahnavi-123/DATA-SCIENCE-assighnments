{
 "cells": [
  {
   "cell_type": "code",
   "execution_count": 1,
   "id": "74015e2e-951f-4d50-9283-01ac6f487631",
   "metadata": {},
   "outputs": [],
   "source": [
    "import pandas as pd\n",
    "import numpy as np\n",
    "from scipy import stats"
   ]
  },
  {
   "cell_type": "code",
   "execution_count": 2,
   "id": "c0b04833-5af7-4fd4-9633-4f79433f8c7e",
   "metadata": {},
   "outputs": [
    {
     "data": {
      "text/plain": [
       "1.2386666666666666"
      ]
     },
     "execution_count": 2,
     "metadata": {},
     "output_type": "execute_result"
    }
   ],
   "source": [
    "data=pd.Series([1.13,1.55,1.43,0.92,1.25,1.36,1.32,0.85,1.07,1.48,1.20,1.33,1.18,1.22,1.29])\n",
    "\n",
    "men=data.mean()\n",
    "men"
   ]
  },
  {
   "cell_type": "code",
   "execution_count": 3,
   "id": "f4b037d7-f576-4504-88ad-98f6da048f66",
   "metadata": {},
   "outputs": [
    {
     "data": {
      "text/plain": [
       "0.18661427836285438"
      ]
     },
     "execution_count": 3,
     "metadata": {},
     "output_type": "execute_result"
    }
   ],
   "source": [
    "std=np.std(data)\n",
    "std"
   ]
  },
  {
   "cell_type": "code",
   "execution_count": 4,
   "id": "0931f7ae-47de-4327-8935-de2561f40e5c",
   "metadata": {},
   "outputs": [
    {
     "data": {
      "text/plain": [
       "2.977"
      ]
     },
     "execution_count": 4,
     "metadata": {},
     "output_type": "execute_result"
    }
   ],
   "source": [
    "round(stats.t.ppf(0.995,14),3)"
   ]
  },
  {
   "cell_type": "code",
   "execution_count": 5,
   "id": "fbd22dd4-6465-4747-bda5-1e7e31cbd7be",
   "metadata": {},
   "outputs": [
    {
     "name": "stdout",
     "output_type": "stream",
     "text": [
      "(1.0952316686385626, 1.3821016646947706)\n"
     ]
    }
   ],
   "source": [
    "dound=stats.t.interval(0.99,loc=men,scale=std/np.sqrt(15),df=14)\n",
    "print(dound)"
   ]
  },
  {
   "cell_type": "code",
   "execution_count": 6,
   "id": "e69869e3-5a9d-45d2-b158-8fcb36e7d8b8",
   "metadata": {},
   "outputs": [
    {
     "data": {
      "text/plain": [
       "2.5758293035489004"
      ]
     },
     "execution_count": 6,
     "metadata": {},
     "output_type": "execute_result"
    }
   ],
   "source": [
    "stats.norm.ppf(0.995)"
   ]
  },
  {
   "cell_type": "code",
   "execution_count": 7,
   "id": "50a37d0e-14c1-4e92-8652-7f97fafbdd87",
   "metadata": {},
   "outputs": [
    {
     "data": {
      "text/plain": [
       "(1.1145539391646546, 1.3627793941686785)"
      ]
     },
     "execution_count": 7,
     "metadata": {},
     "output_type": "execute_result"
    }
   ],
   "source": [
    "Bound=stats.norm.interval(0.99,loc=men,scale=std/np.sqrt(15))\n",
    "Bound"
   ]
  },
  {
   "cell_type": "code",
   "execution_count": null,
   "id": "ff6905cf-36aa-45da-80d0-7c46cbafec43",
   "metadata": {},
   "outputs": [],
   "source": []
  }
 ],
 "metadata": {
  "kernelspec": {
   "display_name": "Python 3 (ipykernel)",
   "language": "python",
   "name": "python3"
  },
  "language_info": {
   "codemirror_mode": {
    "name": "ipython",
    "version": 3
   },
   "file_extension": ".py",
   "mimetype": "text/x-python",
   "name": "python",
   "nbconvert_exporter": "python",
   "pygments_lexer": "ipython3",
   "version": "3.11.7"
  }
 },
 "nbformat": 4,
 "nbformat_minor": 5
}
