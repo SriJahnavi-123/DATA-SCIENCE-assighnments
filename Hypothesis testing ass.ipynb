{
 "cells": [
  {
   "cell_type": "markdown",
   "id": "96b1be39-9ea6-41c6-9680-26382a50a512",
   "metadata": {},
   "source": [
    "# Hypothesis"
   ]
  },
  {
   "cell_type": "code",
   "execution_count": 3,
   "id": "433f5cb2-7e0f-4d6a-a310-18f1cd14c969",
   "metadata": {},
   "outputs": [],
   "source": [
    "import numpy as np\n",
    "from scipy import stats"
   ]
  },
  {
   "cell_type": "code",
   "execution_count": 4,
   "id": "793151a3-afb2-4588-a20b-06910313a05a",
   "metadata": {},
   "outputs": [
    {
     "name": "stdout",
     "output_type": "stream",
     "text": [
      "null hypothesis(H0):mu=$4000\n",
      "Alternative Hypothesis(H1):mu>$4000\n"
     ]
    }
   ],
   "source": [
    "print(\"null hypothesis(H0):mu=$4000\")\n",
    "print(\"Alternative Hypothesis(H1):mu>$4000\")"
   ]
  },
  {
   "cell_type": "code",
   "execution_count": 5,
   "id": "75ce760c-8d53-408d-b6af-199633cdcdeb",
   "metadata": {},
   "outputs": [
    {
     "name": "stdout",
     "output_type": "stream",
     "text": [
      "Test Statistic(t): -38.0\n"
     ]
    }
   ],
   "source": [
    "#calculate the test statistic(t)\n",
    "x=3050\n",
    "mu=4000\n",
    "sigma=5*25\n",
    "n=25\n",
    "t=(x-mu)/(sigma/np.sqrt(n))\n",
    "print(\"Test Statistic(t):\",t)\n"
   ]
  },
  {
   "cell_type": "code",
   "execution_count": null,
   "id": "1fe2c845-a59a-47a2-95ef-4daca73b22d0",
   "metadata": {},
   "outputs": [],
   "source": []
  },
  {
   "cell_type": "code",
   "execution_count": 6,
   "id": "d22c2992-897a-480d-898d-49ea8a8e66df",
   "metadata": {},
   "outputs": [],
   "source": [
    "alpha=0.05\n",
    "critical_value=stats.norm.ppf(1-alpha)"
   ]
  },
  {
   "cell_type": "code",
   "execution_count": 7,
   "id": "6840de4c-2173-444c-9f5a-6d1b82b4d194",
   "metadata": {},
   "outputs": [
    {
     "data": {
      "text/plain": [
       "1.6448536269514722"
      ]
     },
     "execution_count": 7,
     "metadata": {},
     "output_type": "execute_result"
    }
   ],
   "source": [
    "critical_value"
   ]
  },
  {
   "cell_type": "code",
   "execution_count": 8,
   "id": "70386b80-3788-4818-9993-c2bde614aacc",
   "metadata": {},
   "outputs": [
    {
     "name": "stdout",
     "output_type": "stream",
     "text": [
      "Reject the null hypothesis.there is strong evidence to support the resturent owners 'claim\n"
     ]
    }
   ],
   "source": [
    "if t<critical_value:\n",
    "    print(\"Reject the null hypothesis.there is strong evidence to support the resturent owners 'claim\")\n",
    "else:\n",
    "    print(\"Fail to reject the null hypothesis.there is no strong evidence to support the resturent owners 'claim\")\n",
    "    "
   ]
  },
  {
   "cell_type": "markdown",
   "id": "6b81b597-f4e4-44e0-b9c0-07bea875ce4c",
   "metadata": {},
   "source": [
    "# chi_square test"
   ]
  },
  {
   "cell_type": "code",
   "execution_count": 9,
   "id": "178343db-1ee5-49f2-9ef9-226372c2c9eb",
   "metadata": {},
   "outputs": [],
   "source": [
    "import pandas as pd\n",
    "from scipy.stats.contingency import chi2_contingency"
   ]
  },
  {
   "cell_type": "code",
   "execution_count": 10,
   "id": "02e56c39-56ee-43e1-a5f6-93f40ef006c0",
   "metadata": {},
   "outputs": [],
   "source": [
    "data={'satisfaction':['Very_Satisfied','Satisfied','Neutral','Unsatisfied','Very_Unsatisfied','Total'],\n",
    "      'Smart_Thermostat':[50,80,60,30,20,240],\n",
    "      'Smart_Light':[70,100,90,50,50,360],\n",
    "      'Total':[120,180,150,80,70,600]}\n",
    "df=pd.DataFrame(data)"
   ]
  },
  {
   "cell_type": "code",
   "execution_count": 11,
   "id": "e93f17df-15ed-42a1-9423-931c24564738",
   "metadata": {},
   "outputs": [
    {
     "data": {
      "text/html": [
       "<div>\n",
       "<style scoped>\n",
       "    .dataframe tbody tr th:only-of-type {\n",
       "        vertical-align: middle;\n",
       "    }\n",
       "\n",
       "    .dataframe tbody tr th {\n",
       "        vertical-align: top;\n",
       "    }\n",
       "\n",
       "    .dataframe thead th {\n",
       "        text-align: right;\n",
       "    }\n",
       "</style>\n",
       "<table border=\"1\" class=\"dataframe\">\n",
       "  <thead>\n",
       "    <tr style=\"text-align: right;\">\n",
       "      <th></th>\n",
       "      <th>satisfaction</th>\n",
       "      <th>Smart_Thermostat</th>\n",
       "      <th>Smart_Light</th>\n",
       "      <th>Total</th>\n",
       "    </tr>\n",
       "  </thead>\n",
       "  <tbody>\n",
       "    <tr>\n",
       "      <th>0</th>\n",
       "      <td>Very_Satisfied</td>\n",
       "      <td>50</td>\n",
       "      <td>70</td>\n",
       "      <td>120</td>\n",
       "    </tr>\n",
       "    <tr>\n",
       "      <th>1</th>\n",
       "      <td>Satisfied</td>\n",
       "      <td>80</td>\n",
       "      <td>100</td>\n",
       "      <td>180</td>\n",
       "    </tr>\n",
       "    <tr>\n",
       "      <th>2</th>\n",
       "      <td>Neutral</td>\n",
       "      <td>60</td>\n",
       "      <td>90</td>\n",
       "      <td>150</td>\n",
       "    </tr>\n",
       "    <tr>\n",
       "      <th>3</th>\n",
       "      <td>Unsatisfied</td>\n",
       "      <td>30</td>\n",
       "      <td>50</td>\n",
       "      <td>80</td>\n",
       "    </tr>\n",
       "    <tr>\n",
       "      <th>4</th>\n",
       "      <td>Very_Unsatisfied</td>\n",
       "      <td>20</td>\n",
       "      <td>50</td>\n",
       "      <td>70</td>\n",
       "    </tr>\n",
       "    <tr>\n",
       "      <th>5</th>\n",
       "      <td>Total</td>\n",
       "      <td>240</td>\n",
       "      <td>360</td>\n",
       "      <td>600</td>\n",
       "    </tr>\n",
       "  </tbody>\n",
       "</table>\n",
       "</div>"
      ],
      "text/plain": [
       "       satisfaction  Smart_Thermostat  Smart_Light  Total\n",
       "0    Very_Satisfied                50           70    120\n",
       "1         Satisfied                80          100    180\n",
       "2           Neutral                60           90    150\n",
       "3       Unsatisfied                30           50     80\n",
       "4  Very_Unsatisfied                20           50     70\n",
       "5             Total               240          360    600"
      ]
     },
     "execution_count": 11,
     "metadata": {},
     "output_type": "execute_result"
    }
   ],
   "source": [
    "df"
   ]
  },
  {
   "cell_type": "code",
   "execution_count": null,
   "id": "fb72ee41-19ce-42ff-acae-2c6d6c75f5f2",
   "metadata": {},
   "outputs": [],
   "source": []
  },
  {
   "cell_type": "code",
   "execution_count": 14,
   "id": "7ae00081-1aa0-40bb-8791-7557e156fe4e",
   "metadata": {},
   "outputs": [],
   "source": [
    "table = np.array([\n",
    "    [50, 70],  # Very Satisfied\n",
    "    [80, 100],  # Satisfied\n",
    "    [60, 90],  # Neutral\n",
    "    [30, 50],  # Unsatisfied\n",
    "    [20, 50]  # Very Unsatisfied\n",
    "                 ])"
   ]
  },
  {
   "cell_type": "code",
   "execution_count": 15,
   "id": "efd709e3-2fe5-46c1-9ebb-899caa402715",
   "metadata": {},
   "outputs": [
    {
     "data": {
      "text/plain": [
       "array([[ 50,  70],\n",
       "       [ 80, 100],\n",
       "       [ 60,  90],\n",
       "       [ 30,  50],\n",
       "       [ 20,  50]])"
      ]
     },
     "execution_count": 15,
     "metadata": {},
     "output_type": "execute_result"
    }
   ],
   "source": [
    "table"
   ]
  },
  {
   "cell_type": "code",
   "execution_count": 16,
   "id": "b89e5c8a-b682-4bb0-8543-91e9895575b0",
   "metadata": {},
   "outputs": [
    {
     "data": {
      "text/plain": [
       "0.22784371130697179"
      ]
     },
     "execution_count": 16,
     "metadata": {},
     "output_type": "execute_result"
    }
   ],
   "source": [
    "p=chi2_contingency(table)[1]\n",
    "p"
   ]
  },
  {
   "cell_type": "code",
   "execution_count": 17,
   "id": "061f7461-4eb8-48be-9544-f37850716a31",
   "metadata": {},
   "outputs": [],
   "source": [
    "chi2, p, dof, expected = chi2_contingency(table)"
   ]
  },
  {
   "cell_type": "code",
   "execution_count": 18,
   "id": "a7c7aae5-b091-472b-8039-eccad1220540",
   "metadata": {},
   "outputs": [
    {
     "name": "stdout",
     "output_type": "stream",
     "text": [
      "Chi-Square statistic: 5.638227513227513\n",
      "p-value: 0.22784371130697179\n",
      "Degrees of freedom: 4\n"
     ]
    }
   ],
   "source": [
    "print(\"Chi-Square statistic:\", chi2)\n",
    "print(\"p-value:\", p)\n",
    "print(\"Degrees of freedom:\", dof)\n"
   ]
  },
  {
   "cell_type": "code",
   "execution_count": 19,
   "id": "e246ea4b-5867-4560-8cd9-d6e731331ab4",
   "metadata": {},
   "outputs": [
    {
     "name": "stdout",
     "output_type": "stream",
     "text": [
      "Critical value: 9.487729036781154\n"
     ]
    }
   ],
   "source": [
    "from scipy.stats import chi2\n",
    "critical_value = chi2.ppf(0.95, dof)\n",
    "print(\"Critical value:\", critical_value)\n",
    "\n"
   ]
  },
  {
   "cell_type": "code",
   "execution_count": 20,
   "id": "f6d3229d-6b55-4e19-817e-a63ef1748d04",
   "metadata": {},
   "outputs": [
    {
     "name": "stdout",
     "output_type": "stream",
     "text": [
      "Fail to reject null hypothesis - no significant association between device type and satisfaction level\n"
     ]
    }
   ],
   "source": [
    "if p > critical_value:\n",
    "    print(\"Reject null hypothesis - significant association between device type and satisfaction level\")\n",
    "else:\n",
    "    print(\"Fail to reject null hypothesis - no significant association between device type and satisfaction level\")\n"
   ]
  },
  {
   "cell_type": "code",
   "execution_count": null,
   "id": "1993cb34-07e5-451f-a74b-768afc5525b6",
   "metadata": {},
   "outputs": [],
   "source": []
  }
 ],
 "metadata": {
  "kernelspec": {
   "display_name": "Python 3 (ipykernel)",
   "language": "python",
   "name": "python3"
  },
  "language_info": {
   "codemirror_mode": {
    "name": "ipython",
    "version": 3
   },
   "file_extension": ".py",
   "mimetype": "text/x-python",
   "name": "python",
   "nbconvert_exporter": "python",
   "pygments_lexer": "ipython3",
   "version": "3.11.7"
  }
 },
 "nbformat": 4,
 "nbformat_minor": 5
}
