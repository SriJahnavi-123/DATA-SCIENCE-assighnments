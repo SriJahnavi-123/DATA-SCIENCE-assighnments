{
 "cells": [
  {
   "cell_type": "code",
   "execution_count": 1,
   "id": "fcb59bc5-0cd4-4106-95e0-22be46f0be21",
   "metadata": {},
   "outputs": [
    {
     "name": "stdin",
     "output_type": "stream",
     "text": [
      "enter the number: 8\n"
     ]
    },
    {
     "name": "stdout",
     "output_type": "stream",
     "text": [
      "not a prine number\n"
     ]
    }
   ],
   "source": [
    "number=int(input(\"enter the number:\"))\n",
    "if number>1:\n",
    "    for i in range(2,number):\n",
    "        if (number%i)==0:\n",
    "            print(\"not a prine number\")\n",
    "            break\n",
    "  \n",
    "    else:\n",
    "        print(\"prime number\")\n",
    "else:\n",
    "    print(\"is not prime number\")"
   ]
  },
  {
   "cell_type": "code",
   "execution_count": 2,
   "id": "1d98f2af-433b-4fe4-b189-b86c521baf86",
   "metadata": {},
   "outputs": [
    {
     "name": "stdin",
     "output_type": "stream",
     "text": [
      "Guess the number: 30\n"
     ]
    },
    {
     "name": "stdout",
     "output_type": "stream",
     "text": [
      "your number is too big.take a small guess...\n"
     ]
    },
    {
     "name": "stdin",
     "output_type": "stream",
     "text": [
      "Guess the number: 2\n"
     ]
    },
    {
     "name": "stdout",
     "output_type": "stream",
     "text": [
      "your number is too small.take a bigger guess...\n"
     ]
    },
    {
     "name": "stdin",
     "output_type": "stream",
     "text": [
      "Guess the number: 26\n"
     ]
    },
    {
     "name": "stdout",
     "output_type": "stream",
     "text": [
      "your number is too big.take a small guess...\n"
     ]
    },
    {
     "name": "stdin",
     "output_type": "stream",
     "text": [
      "Guess the number: 25\n"
     ]
    },
    {
     "name": "stdout",
     "output_type": "stream",
     "text": [
      "your number is too big.take a small guess...\n"
     ]
    },
    {
     "name": "stdin",
     "output_type": "stream",
     "text": [
      "Guess the number: 24\n"
     ]
    },
    {
     "name": "stdout",
     "output_type": "stream",
     "text": [
      "your number is too big.take a small guess...\n"
     ]
    },
    {
     "name": "stdin",
     "output_type": "stream",
     "text": [
      "Guess the number: 23\n"
     ]
    },
    {
     "name": "stdout",
     "output_type": "stream",
     "text": [
      "your number is too big.take a small guess...\n"
     ]
    },
    {
     "name": "stdin",
     "output_type": "stream",
     "text": [
      "Guess the number: 22\n"
     ]
    },
    {
     "name": "stdout",
     "output_type": "stream",
     "text": [
      "your number is too big.take a small guess...\n"
     ]
    },
    {
     "name": "stdin",
     "output_type": "stream",
     "text": [
      "Guess the number: 21\n"
     ]
    },
    {
     "name": "stdout",
     "output_type": "stream",
     "text": [
      "your number is too big.take a small guess...\n"
     ]
    },
    {
     "name": "stdin",
     "output_type": "stream",
     "text": [
      "Guess the number: 20\n"
     ]
    },
    {
     "name": "stdout",
     "output_type": "stream",
     "text": [
      "your number is too big.take a small guess...\n"
     ]
    },
    {
     "name": "stdin",
     "output_type": "stream",
     "text": [
      "Guess the number: 19\n"
     ]
    },
    {
     "name": "stdout",
     "output_type": "stream",
     "text": [
      "your number is too big.take a small guess...\n"
     ]
    },
    {
     "name": "stdin",
     "output_type": "stream",
     "text": [
      "Guess the number: 10\n"
     ]
    },
    {
     "name": "stdout",
     "output_type": "stream",
     "text": [
      "your number is too small.take a bigger guess...\n"
     ]
    },
    {
     "name": "stdin",
     "output_type": "stream",
     "text": [
      "Guess the number: 8\n"
     ]
    },
    {
     "name": "stdout",
     "output_type": "stream",
     "text": [
      "your number is too small.take a bigger guess...\n"
     ]
    },
    {
     "name": "stdin",
     "output_type": "stream",
     "text": [
      "Guess the number: 9\n"
     ]
    },
    {
     "name": "stdout",
     "output_type": "stream",
     "text": [
      "your number is too small.take a bigger guess...\n"
     ]
    },
    {
     "name": "stdin",
     "output_type": "stream",
     "text": [
      "Guess the number: 10\n"
     ]
    },
    {
     "name": "stdout",
     "output_type": "stream",
     "text": [
      "your number is too small.take a bigger guess...\n"
     ]
    },
    {
     "name": "stdin",
     "output_type": "stream",
     "text": [
      "Guess the number: 11\n"
     ]
    },
    {
     "name": "stdout",
     "output_type": "stream",
     "text": [
      "your number is too small.take a bigger guess...\n"
     ]
    },
    {
     "name": "stdin",
     "output_type": "stream",
     "text": [
      "Guess the number: 12\n"
     ]
    },
    {
     "name": "stdout",
     "output_type": "stream",
     "text": [
      "your number is too small.take a bigger guess...\n"
     ]
    },
    {
     "name": "stdin",
     "output_type": "stream",
     "text": [
      "Guess the number: 13\n"
     ]
    },
    {
     "name": "stdout",
     "output_type": "stream",
     "text": [
      "your number is too small.take a bigger guess...\n"
     ]
    },
    {
     "name": "stdin",
     "output_type": "stream",
     "text": [
      "Guess the number: 14\n"
     ]
    },
    {
     "name": "stdout",
     "output_type": "stream",
     "text": [
      "your number is too small.take a bigger guess...\n"
     ]
    },
    {
     "name": "stdin",
     "output_type": "stream",
     "text": [
      "Guess the number: 15\n"
     ]
    },
    {
     "name": "stdout",
     "output_type": "stream",
     "text": [
      "your number is too small.take a bigger guess...\n"
     ]
    },
    {
     "name": "stdin",
     "output_type": "stream",
     "text": [
      "Guess the number: 17\n"
     ]
    },
    {
     "name": "stdout",
     "output_type": "stream",
     "text": [
      "-----Success----\n",
      "---OVER---\n"
     ]
    }
   ],
   "source": [
    "import random\n",
    "\n",
    "randNum=random.randint(1,50)\n",
    "while True:\n",
    "    userchoice=int(input(\"Guess the number:\"))\n",
    "    if(userchoice==randNum):\n",
    "        print(\"-----Success----\")\n",
    "        break\n",
    "    elif(userchoice<randNum):\n",
    "        print(\"your number is too small.take a bigger guess...\")\n",
    "    else:\n",
    "        print(\"your number is too big.take a small guess...\")\n",
    "print(\"---OVER---\")"
   ]
  },
  {
   "cell_type": "code",
   "execution_count": 3,
   "id": "a0f9a3a2-c946-4fdc-8179-0922594d79d0",
   "metadata": {},
   "outputs": [
    {
     "name": "stdout",
     "output_type": "stream",
     "text": [
      "square of obb odd numbers beetween 100 to 200\n",
      "10201\n",
      "10609\n",
      "11025\n",
      "11449\n",
      "11881\n",
      "12321\n",
      "12769\n",
      "13225\n",
      "13689\n",
      "14161\n",
      "14641\n",
      "15129\n",
      "15625\n",
      "16129\n",
      "16641\n",
      "17161\n",
      "17689\n",
      "18225\n",
      "18769\n",
      "19321\n",
      "19881\n",
      "20449\n",
      "21025\n",
      "21609\n",
      "22201\n",
      "22801\n",
      "23409\n",
      "24025\n",
      "24649\n",
      "25281\n",
      "25921\n",
      "26569\n",
      "27225\n",
      "27889\n",
      "28561\n",
      "29241\n",
      "29929\n",
      "30625\n",
      "31329\n",
      "32041\n",
      "32761\n",
      "33489\n",
      "34225\n",
      "34969\n",
      "35721\n",
      "36481\n",
      "37249\n",
      "38025\n",
      "38809\n",
      "39601\n"
     ]
    }
   ],
   "source": [
    "print (\"square of obb odd numbers beetween 100 to 200\")\n",
    "for i in range (100 ,200):\n",
    "    if i%2!=0:\n",
    "        print(i**2)"
   ]
  },
  {
   "cell_type": "code",
   "execution_count": 4,
   "id": "e8c5840b-4cd8-4d1d-8ecb-2eb2fa54a53a",
   "metadata": {},
   "outputs": [
    {
     "name": "stdin",
     "output_type": "stream",
     "text": [
      "enter the word: asas\n"
     ]
    },
    {
     "name": "stdout",
     "output_type": "stream",
     "text": [
      "False\n"
     ]
    }
   ],
   "source": [
    "word=input(\"enter the word:\")\n",
    "word2=list(word)\n",
    "word2.reverse()\n",
    "reversed_word=''.join(word2)\n",
    "if word ==reversed_word:\n",
    "    print(\"True\")\n",
    "else:\n",
    "    print(\"False\")"
   ]
  },
  {
   "cell_type": "code",
   "execution_count": 5,
   "id": "9410192e-62af-438a-80ee-6bae8c4a6507",
   "metadata": {},
   "outputs": [
    {
     "name": "stdout",
     "output_type": "stream",
     "text": [
      "'this': 2\n",
      "'is': 1\n",
      "'a': 1\n",
      "'sample': 1\n",
      "'text': 2\n",
      "'will': 1\n",
      "'be': 1\n",
      "'used': 1\n",
      "'to': 1\n",
      "'demonstrate': 1\n",
      "'the': 1\n",
      "'word': 1\n",
      "'counter': 1\n"
     ]
    }
   ],
   "source": [
    "def word_counter(text):\n",
    "    words = text.lower().split()\n",
    "    word_counts = {}\n",
    "    for word in words:\n",
    "        word = word.strip('.,!?\"\\'')\n",
    "        if word in word_counts:\n",
    "            word_counts[word] += 1\n",
    "        else:\n",
    "            word_counts[word] = 1\n",
    "    for word, count in word_counts.items():\n",
    "        print(f\"'{word}': {count}\")\n",
    "input_text = \"This is a sample text. This text will be used to demonstrate the word counter.\"\n",
    "\n",
    "word_counter(input_text)\n"
   ]
  },
  {
   "cell_type": "code",
   "execution_count": null,
   "id": "8bc1068e-d927-464f-954b-88a55532a5d3",
   "metadata": {},
   "outputs": [],
   "source": []
  },
  {
   "cell_type": "code",
   "execution_count": null,
   "id": "e5a0c836-3147-4090-b3c6-7fee607247f7",
   "metadata": {},
   "outputs": [],
   "source": []
  }
 ],
 "metadata": {
  "kernelspec": {
   "display_name": "Python 3 (ipykernel)",
   "language": "python",
   "name": "python3"
  },
  "language_info": {
   "codemirror_mode": {
    "name": "ipython",
    "version": 3
   },
   "file_extension": ".py",
   "mimetype": "text/x-python",
   "name": "python",
   "nbconvert_exporter": "python",
   "pygments_lexer": "ipython3",
   "version": "3.11.7"
  }
 },
 "nbformat": 4,
 "nbformat_minor": 5
}
